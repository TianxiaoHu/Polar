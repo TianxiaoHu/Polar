{
 "cells": [
  {
   "cell_type": "markdown",
   "metadata": {},
   "source": [
    "We use [Gephi](https://gephi.org/) to make fancy pics so we need to convert co-author network into `.gml` format"
   ]
  },
  {
   "cell_type": "code",
   "execution_count": 1,
   "metadata": {
    "collapsed": true
   },
   "outputs": [],
   "source": [
    "%matplotlib inline\n",
    "%config InlineBackend.figure_format = 'retina'\n",
    "import numpy as np\n",
    "import pandas as pd\n",
    "import scipy as sp\n",
    "import matplotlib.pyplot as plt\n",
    "import seaborn as sns\n",
    "import gensim\n",
    "import networkx as nx"
   ]
  },
  {
   "cell_type": "code",
   "execution_count": 2,
   "metadata": {
    "collapsed": true
   },
   "outputs": [],
   "source": [
    "df = pd.read_csv('seven_topconf_papers.csv')"
   ]
  },
  {
   "cell_type": "code",
   "execution_count": 3,
   "metadata": {
    "collapsed": true
   },
   "outputs": [],
   "source": [
    "def generate_coauthor_gml(field):\n",
    "    print field\n",
    "    selected_df = df[df.field == field]\n",
    "    temp = []\n",
    "    for i in selected_df.author.values:\n",
    "        temp.extend(i.split(', '))\n",
    "    unique_authors = np.unique(temp)\n",
    "    print 'authors:', len(unique_authors)\n",
    "    \n",
    "    G = nx.Graph()\n",
    "    for i in selected_df.index:\n",
    "        authors = selected_df.loc[i].author.split(', ')\n",
    "        for j in range(len(authors)):\n",
    "            for k in range(j+1, len(authors)):\n",
    "                try:\n",
    "                    G.add_edge(authors[j], authors[k])\n",
    "                    if G[authors[j]][authors[k]].has_key('weight'):\n",
    "                        G[authors[j]][authors[k]]['weight'] += 1\n",
    "                    else:\n",
    "                        G[authors[j]][authors[k]]['weight'] = 1\n",
    "                except:\n",
    "                    print authors[j], authors[k], 'not added!'\n",
    "    print 'Nodes:', len(G.nodes())\n",
    "    print 'Edges:', len(G.edges())\n",
    "    nx.write_gml(G, field + '.gml')\n",
    "    print "
   ]
  },
  {
   "cell_type": "code",
   "execution_count": 4,
   "metadata": {},
   "outputs": [
    {
     "name": "stdout",
     "output_type": "stream",
     "text": [
      "DM\n",
      "authors: 11541\n",
      "Nodes: 11280\n",
      "Edges: 30877\n",
      "\n",
      "DP\n",
      "authors: 11916\n",
      "Nodes: 11656\n",
      "Edges: 29176\n",
      "\n",
      "ED\n",
      "authors: 7958\n",
      "Nodes: 7714\n",
      "Edges: 16962\n",
      "\n",
      "ML\n",
      "authors: 21225\n",
      "Nodes: 20269\n",
      "Edges: 47912\n",
      "\n",
      "NC\n",
      "authors: 11954\n",
      "Nodes: 11695\n",
      "Edges: 30797\n",
      "\n",
      "NL\n",
      "authors: 7893\n",
      "Nodes: 7219\n",
      "Edges: 16202\n",
      "\n",
      "OS\n",
      "authors: 3649\n",
      "Nodes: 3550\n",
      "Edges: 8370\n",
      "\n"
     ]
    }
   ],
   "source": [
    "for field in ['DM', 'DP', 'ED', 'ML', 'NC', 'NL', 'OS']:\n",
    "    generate_coauthor_gml(field)"
   ]
  }
 ],
 "metadata": {
  "kernelspec": {
   "display_name": "Python [conda root]",
   "language": "python",
   "name": "conda-root-py"
  },
  "language_info": {
   "codemirror_mode": {
    "name": "ipython",
    "version": 2
   },
   "file_extension": ".py",
   "mimetype": "text/x-python",
   "name": "python",
   "nbconvert_exporter": "python",
   "pygments_lexer": "ipython2",
   "version": "2.7.13"
  }
 },
 "nbformat": 4,
 "nbformat_minor": 2
}
