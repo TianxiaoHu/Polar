{
 "cells": [
  {
   "attachments": {},
   "cell_type": "markdown",
   "metadata": {
    "collapsed": true
   },
   "source": [
    "We collected data from [AMiner API](https://cn.aminer.org/citation), afterwards select 25 top conference from 7 fields.\n",
    "\n",
    "- 'DM': 'Data_Mining'\n",
    "- 'DP': 'Distributed_and_Parallel_Computing'\n",
    "- 'ED': 'Computer_Education'\n",
    "- 'ML': 'Machine_Learning'\n",
    "- 'NC': 'Networks,Communications&Performance'\n",
    "- 'NL':'Natural_Language_Processing'\n",
    "- 'OS': 'Operating_Systems/Simulations'\n",
    "\n",
    "We use [this ranking](http://webdocs.cs.ualberta.ca/~zaiane/htmldocs/ConfRanking.html) for reference."
   ]
  },
  {
   "cell_type": "code",
   "execution_count": 1,
   "metadata": {
    "collapsed": true
   },
   "outputs": [],
   "source": [
    "%matplotlib inline\n",
    "%config InlineBackend.figure_format = 'retina'\n",
    "import numpy as np\n",
    "import pandas as pd\n",
    "import scipy as sp\n",
    "import matplotlib.pyplot as plt\n",
    "import seaborn as sns\n",
    "import gensim\n",
    "import networkx as nx"
   ]
  },
  {
   "cell_type": "code",
   "execution_count": 2,
   "metadata": {
    "collapsed": true
   },
   "outputs": [],
   "source": [
    "df = pd.read_csv(\"dblp.csv\")"
   ]
  },
  {
   "cell_type": "code",
   "execution_count": 3,
   "metadata": {
    "collapsed": true
   },
   "outputs": [],
   "source": [
    "df = df.dropna(subset=['title', 'author', 'time', 'publication', 'index'], how='any')"
   ]
  },
  {
   "cell_type": "code",
   "execution_count": 4,
   "metadata": {
    "collapsed": true
   },
   "outputs": [],
   "source": [
    "df = df.drop(['index', 'citation'], axis=1)"
   ]
  },
  {
   "cell_type": "code",
   "execution_count": 5,
   "metadata": {},
   "outputs": [
    {
     "data": {
      "text/html": [
       "<div>\n",
       "<style>\n",
       "    .dataframe thead tr:only-child th {\n",
       "        text-align: right;\n",
       "    }\n",
       "\n",
       "    .dataframe thead th {\n",
       "        text-align: left;\n",
       "    }\n",
       "\n",
       "    .dataframe tbody tr th {\n",
       "        vertical-align: top;\n",
       "    }\n",
       "</style>\n",
       "<table border=\"1\" class=\"dataframe\">\n",
       "  <thead>\n",
       "    <tr style=\"text-align: right;\">\n",
       "      <th></th>\n",
       "      <th>title</th>\n",
       "      <th>author</th>\n",
       "      <th>time</th>\n",
       "      <th>publication</th>\n",
       "    </tr>\n",
       "  </thead>\n",
       "  <tbody>\n",
       "    <tr>\n",
       "      <th>254</th>\n",
       "      <td>Information Contents of Fracture Lines.</td>\n",
       "      <td>Helena Cristina da Gama Leitão, Jorge Stolfi</td>\n",
       "      <td>2000.0</td>\n",
       "      <td>WSCG</td>\n",
       "    </tr>\n",
       "    <tr>\n",
       "      <th>255</th>\n",
       "      <td>Influence of Dynamic Wrinkles on the Perceived...</td>\n",
       "      <td>Javier Alcon, David Travieso, Caroline Larboul...</td>\n",
       "      <td>2013.0</td>\n",
       "      <td>WSCG</td>\n",
       "    </tr>\n",
       "    <tr>\n",
       "      <th>256</th>\n",
       "      <td>Automatic Graphic User Interface Generation fo...</td>\n",
       "      <td>Wilfrid Lefer</td>\n",
       "      <td>2002.0</td>\n",
       "      <td>WSCG</td>\n",
       "    </tr>\n",
       "    <tr>\n",
       "      <th>257</th>\n",
       "      <td>Refinement and Hierarchical Coarsening Schemes...</td>\n",
       "      <td>José P. Suárez, Angel Plaza</td>\n",
       "      <td>2003.0</td>\n",
       "      <td>WSCG</td>\n",
       "    </tr>\n",
       "    <tr>\n",
       "      <th>258</th>\n",
       "      <td>Efficient NURBS Rendering using View-Dependent...</td>\n",
       "      <td>Michael Guthe, Reinhard Klein</td>\n",
       "      <td>2003.0</td>\n",
       "      <td>WSCG</td>\n",
       "    </tr>\n",
       "  </tbody>\n",
       "</table>\n",
       "</div>"
      ],
      "text/plain": [
       "                                                 title  \\\n",
       "254            Information Contents of Fracture Lines.   \n",
       "255  Influence of Dynamic Wrinkles on the Perceived...   \n",
       "256  Automatic Graphic User Interface Generation fo...   \n",
       "257  Refinement and Hierarchical Coarsening Schemes...   \n",
       "258  Efficient NURBS Rendering using View-Dependent...   \n",
       "\n",
       "                                                author    time publication  \n",
       "254       Helena Cristina da Gama Leitão, Jorge Stolfi  2000.0        WSCG  \n",
       "255  Javier Alcon, David Travieso, Caroline Larboul...  2013.0        WSCG  \n",
       "256                                      Wilfrid Lefer  2002.0        WSCG  \n",
       "257                        José P. Suárez, Angel Plaza  2003.0        WSCG  \n",
       "258                      Michael Guthe, Reinhard Klein  2003.0        WSCG  "
      ]
     },
     "execution_count": 5,
     "metadata": {},
     "output_type": "execute_result"
    }
   ],
   "source": [
    "df.head()"
   ]
  },
  {
   "cell_type": "code",
   "execution_count": 6,
   "metadata": {
    "collapsed": true
   },
   "outputs": [],
   "source": [
    "dp_conf = ['PPOPP', 'PACT', 'IPDPS', 'ICPP']"
   ]
  },
  {
   "cell_type": "code",
   "execution_count": 7,
   "metadata": {
    "collapsed": true
   },
   "outputs": [],
   "source": [
    "ml_conf = ['IJCAI', 'AAAI','ICML', 'NIPS']"
   ]
  },
  {
   "cell_type": "code",
   "execution_count": 8,
   "metadata": {
    "collapsed": true
   },
   "outputs": [],
   "source": [
    "nc_conf = ['SIGCOMM', 'PERFORMANCE', 'SIGMETRICS', 'INFOCOM', 'MOBICOM']"
   ]
  },
  {
   "cell_type": "code",
   "execution_count": 9,
   "metadata": {
    "collapsed": true
   },
   "outputs": [],
   "source": [
    "dm_conf = ['ICDE', 'SIGMOD', 'KDD', 'ICDM']"
   ]
  },
  {
   "cell_type": "code",
   "execution_count": 10,
   "metadata": {
    "collapsed": true
   },
   "outputs": [],
   "source": [
    "ed_conf = ['AIED', 'ITS', 'ICALT']"
   ]
  },
  {
   "cell_type": "code",
   "execution_count": 11,
   "metadata": {
    "collapsed": true
   },
   "outputs": [],
   "source": [
    "nl_conf = ['ACL', 'EACL', 'COLING', 'EMNLP']"
   ]
  },
  {
   "cell_type": "code",
   "execution_count": 12,
   "metadata": {
    "collapsed": true
   },
   "outputs": [],
   "source": [
    "os_conf = ['MASCOTS', 'SOSP', 'OSDI']"
   ]
  },
  {
   "cell_type": "code",
   "execution_count": 13,
   "metadata": {
    "collapsed": true
   },
   "outputs": [],
   "source": [
    "def get_field_df(conf_list, field):\n",
    "    temp = df[df.publication.apply(lambda x: x in conf_list)]\n",
    "    temp['field'] = [field] * temp.shape[0]\n",
    "    print temp.shape\n",
    "    print temp.groupby('publication').count()\n",
    "    return temp"
   ]
  },
  {
   "cell_type": "code",
   "execution_count": 14,
   "metadata": {},
   "outputs": [
    {
     "name": "stdout",
     "output_type": "stream",
     "text": [
      "(6568, 5)\n",
      "             title  author  time  field\n",
      "publication                            \n",
      "ICPP          2053    2053  2053   2053\n",
      "IPDPS         3749    3749  3749   3749\n",
      "PACT           455     455   455    455\n",
      "PPOPP          311     311   311    311\n"
     ]
    },
    {
     "name": "stderr",
     "output_type": "stream",
     "text": [
      "/Applications/anaconda/lib/python2.7/site-packages/ipykernel/__main__.py:3: SettingWithCopyWarning: \n",
      "A value is trying to be set on a copy of a slice from a DataFrame.\n",
      "Try using .loc[row_indexer,col_indexer] = value instead\n",
      "\n",
      "See the caveats in the documentation: http://pandas.pydata.org/pandas-docs/stable/indexing.html#indexing-view-versus-copy\n",
      "  app.launch_new_instance()\n"
     ]
    }
   ],
   "source": [
    "dp_df = get_field_df(dp_conf, 'DP')"
   ]
  },
  {
   "cell_type": "code",
   "execution_count": 15,
   "metadata": {},
   "outputs": [
    {
     "name": "stdout",
     "output_type": "stream",
     "text": [
      "(18628, 5)\n",
      "             title  author  time  field\n",
      "publication                            \n",
      "AAAI          5693    5693  5693   5693\n",
      "ICML          2307    2307  2307   2307\n",
      "IJCAI         5160    5160  5160   5160\n",
      "NIPS          5468    5468  5468   5468\n"
     ]
    },
    {
     "name": "stderr",
     "output_type": "stream",
     "text": [
      "/Applications/anaconda/lib/python2.7/site-packages/ipykernel/__main__.py:3: SettingWithCopyWarning: \n",
      "A value is trying to be set on a copy of a slice from a DataFrame.\n",
      "Try using .loc[row_indexer,col_indexer] = value instead\n",
      "\n",
      "See the caveats in the documentation: http://pandas.pydata.org/pandas-docs/stable/indexing.html#indexing-view-versus-copy\n",
      "  app.launch_new_instance()\n"
     ]
    }
   ],
   "source": [
    "ml_df = get_field_df(ml_conf, 'ML')"
   ]
  },
  {
   "cell_type": "code",
   "execution_count": 16,
   "metadata": {},
   "outputs": [
    {
     "name": "stdout",
     "output_type": "stream",
     "text": [
      "(8829, 5)\n",
      "             title  author  time  field\n",
      "publication                            \n",
      "INFOCOM       6693    6693  6693   6693\n",
      "MOBICOM        521     521   521    521\n",
      "SIGCOMM        816     816   816    816\n",
      "SIGMETRICS     799     799   799    799\n"
     ]
    },
    {
     "name": "stderr",
     "output_type": "stream",
     "text": [
      "/Applications/anaconda/lib/python2.7/site-packages/ipykernel/__main__.py:3: SettingWithCopyWarning: \n",
      "A value is trying to be set on a copy of a slice from a DataFrame.\n",
      "Try using .loc[row_indexer,col_indexer] = value instead\n",
      "\n",
      "See the caveats in the documentation: http://pandas.pydata.org/pandas-docs/stable/indexing.html#indexing-view-versus-copy\n",
      "  app.launch_new_instance()\n"
     ]
    }
   ],
   "source": [
    "nc_df = get_field_df(nc_conf, 'NC')"
   ]
  },
  {
   "cell_type": "code",
   "execution_count": 17,
   "metadata": {},
   "outputs": [
    {
     "name": "stdout",
     "output_type": "stream",
     "text": [
      "(6985, 5)\n",
      "             title  author  time  field\n",
      "publication                            \n",
      "ICDE          2984    2984  2984   2984\n",
      "ICDM          2087    2087  2087   2087\n",
      "KDD           1914    1914  1914   1914\n"
     ]
    },
    {
     "name": "stderr",
     "output_type": "stream",
     "text": [
      "/Applications/anaconda/lib/python2.7/site-packages/ipykernel/__main__.py:3: SettingWithCopyWarning: \n",
      "A value is trying to be set on a copy of a slice from a DataFrame.\n",
      "Try using .loc[row_indexer,col_indexer] = value instead\n",
      "\n",
      "See the caveats in the documentation: http://pandas.pydata.org/pandas-docs/stable/indexing.html#indexing-view-versus-copy\n",
      "  app.launch_new_instance()\n"
     ]
    }
   ],
   "source": [
    "dm_df = get_field_df(dm_conf, 'DM')"
   ]
  },
  {
   "cell_type": "code",
   "execution_count": 18,
   "metadata": {},
   "outputs": [
    {
     "name": "stdout",
     "output_type": "stream",
     "text": [
      "(4688, 5)\n",
      "             title  author  time  field\n",
      "publication                            \n",
      "AIED           952     952   952    952\n",
      "ICALT         3310    3310  3310   3310\n",
      "ITS            426     426   426    426\n"
     ]
    },
    {
     "name": "stderr",
     "output_type": "stream",
     "text": [
      "/Applications/anaconda/lib/python2.7/site-packages/ipykernel/__main__.py:3: SettingWithCopyWarning: \n",
      "A value is trying to be set on a copy of a slice from a DataFrame.\n",
      "Try using .loc[row_indexer,col_indexer] = value instead\n",
      "\n",
      "See the caveats in the documentation: http://pandas.pydata.org/pandas-docs/stable/indexing.html#indexing-view-versus-copy\n",
      "  app.launch_new_instance()\n"
     ]
    }
   ],
   "source": [
    "ed_df = get_field_df(ed_conf, 'ED')"
   ]
  },
  {
   "cell_type": "code",
   "execution_count": 19,
   "metadata": {},
   "outputs": [
    {
     "name": "stdout",
     "output_type": "stream",
     "text": [
      "(6885, 5)\n",
      "             title  author  time  field\n",
      "publication                            \n",
      "ACL           2092    2092  2092   2092\n",
      "COLING        2784    2784  2784   2784\n",
      "EACL           816     816   816    816\n",
      "EMNLP         1193    1193  1193   1193\n"
     ]
    },
    {
     "name": "stderr",
     "output_type": "stream",
     "text": [
      "/Applications/anaconda/lib/python2.7/site-packages/ipykernel/__main__.py:3: SettingWithCopyWarning: \n",
      "A value is trying to be set on a copy of a slice from a DataFrame.\n",
      "Try using .loc[row_indexer,col_indexer] = value instead\n",
      "\n",
      "See the caveats in the documentation: http://pandas.pydata.org/pandas-docs/stable/indexing.html#indexing-view-versus-copy\n",
      "  app.launch_new_instance()\n"
     ]
    }
   ],
   "source": [
    "nl_df = get_field_df(nl_conf, 'NL')"
   ]
  },
  {
   "cell_type": "code",
   "execution_count": 20,
   "metadata": {},
   "outputs": [
    {
     "name": "stdout",
     "output_type": "stream",
     "text": [
      "(1668, 5)\n",
      "             title  author  time  field\n",
      "publication                            \n",
      "MASCOTS        944     944   944    944\n",
      "OSDI           252     252   252    252\n",
      "SOSP           472     472   472    472\n"
     ]
    },
    {
     "name": "stderr",
     "output_type": "stream",
     "text": [
      "/Applications/anaconda/lib/python2.7/site-packages/ipykernel/__main__.py:3: SettingWithCopyWarning: \n",
      "A value is trying to be set on a copy of a slice from a DataFrame.\n",
      "Try using .loc[row_indexer,col_indexer] = value instead\n",
      "\n",
      "See the caveats in the documentation: http://pandas.pydata.org/pandas-docs/stable/indexing.html#indexing-view-versus-copy\n",
      "  app.launch_new_instance()\n"
     ]
    }
   ],
   "source": [
    "os_df = get_field_df(os_conf, 'OS')"
   ]
  },
  {
   "cell_type": "code",
   "execution_count": 21,
   "metadata": {
    "collapsed": true
   },
   "outputs": [],
   "source": [
    "total_df = pd.concat((dp_df, ml_df, nc_df, dm_df, ed_df, nl_df, os_df))"
   ]
  },
  {
   "cell_type": "code",
   "execution_count": 22,
   "metadata": {
    "collapsed": true
   },
   "outputs": [],
   "source": [
    "total_df.to_csv(\"seven_topconf_papers.csv\")"
   ]
  }
 ],
 "metadata": {
  "kernelspec": {
   "display_name": "Python [conda root]",
   "language": "python",
   "name": "conda-root-py"
  },
  "language_info": {
   "codemirror_mode": {
    "name": "ipython",
    "version": 2
   },
   "file_extension": ".py",
   "mimetype": "text/x-python",
   "name": "python",
   "nbconvert_exporter": "python",
   "pygments_lexer": "ipython2",
   "version": "2.7.13"
  }
 },
 "nbformat": 4,
 "nbformat_minor": 2
}
