{
 "cells": [
  {
   "cell_type": "markdown",
   "metadata": {
    "collapsed": true
   },
   "source": [
    "In 7 fields, we use the number of published paper to rank scholars."
   ]
  },
  {
   "cell_type": "code",
   "execution_count": 2,
   "metadata": {
    "collapsed": true
   },
   "outputs": [],
   "source": [
    "%matplotlib inline\n",
    "%config InlineBackend.figure_format = 'retina'\n",
    "import numpy as np\n",
    "import pandas as pd\n",
    "import scipy as sp\n",
    "import matplotlib.pyplot as plt\n",
    "import seaborn as sns\n",
    "import gensim\n",
    "import networkx as nx"
   ]
  },
  {
   "cell_type": "code",
   "execution_count": 2,
   "metadata": {
    "collapsed": true
   },
   "outputs": [],
   "source": [
    "df = pd.read_csv('seven_topconf_papers.csv')"
   ]
  },
  {
   "cell_type": "code",
   "execution_count": 3,
   "metadata": {
    "collapsed": true
   },
   "outputs": [],
   "source": [
    "def get_top_ten_authors(field):\n",
    "    print field\n",
    "    selected_df = df[df.field == field]\n",
    "    temp = []\n",
    "    for i in selected_df.author.values:\n",
    "        temp.extend(i.split(', '))\n",
    "    unique_authors = np.unique(temp)\n",
    "    \n",
    "    author_info = pd.DataFrame(index=unique_authors)\n",
    "    initialize = np.zeros(len(author_info.index))\n",
    "    \n",
    "    paper_num = dict(zip(list(author_info.index), initialize))\n",
    "    for index in selected_df.index:\n",
    "        authors = selected_df.loc[index].author.split(', ')\n",
    "        for author in authors:\n",
    "            try:\n",
    "                paper_num[author] += 1\n",
    "            except:\n",
    "                pass\n",
    "\n",
    "    author_info['paper'] = map(lambda x: paper_num[x], author_info.index)\n",
    "    for i in author_info.sort_values('paper', ascending=False).index[:10]:\n",
    "        print i\n",
    "    print "
   ]
  },
  {
   "cell_type": "code",
   "execution_count": 4,
   "metadata": {},
   "outputs": [
    {
     "name": "stdout",
     "output_type": "stream",
     "text": [
      "DM\n",
      "Philip S. Yu\n",
      "Jiawei Han\n",
      "Christos Faloutsos\n",
      "Divesh Srivastava\n",
      "Haixun Wang\n",
      "Jian Pei\n",
      "Hui Xiong\n",
      "Charu C. Aggarwal\n",
      "Eamonn J. Keogh\n",
      "Hans-Peter Kriegel\n",
      "\n",
      "DP\n",
      "Dhabaleswar K. Panda\n",
      "José Duato\n",
      "Mahmut T. Kandemir\n",
      "Jie Wu 0001\n",
      "Viktor K. Prasanna\n",
      "Howard Jay Siegel\n",
      "P. Sadayappan\n",
      "Gagan Agrawal\n",
      "Yves Robert\n",
      "Yuanyuan Yang\n",
      "\n",
      "ED\n",
      "Kinshuk\n",
      "Demetrios G. Sampson\n",
      "Kenneth R. Koedinger\n",
      "Vincent Aleven\n",
      "Nian-Shing Chen\n",
      "Toshio Okamoto\n",
      "Arthur C. Graesser\n",
      "Gwo-Dong Chen\n",
      "Antonija Mitrovic\n",
      "Maomi Ueno\n",
      "\n",
      "ML\n",
      "Michael I. Jordan\n",
      "Bernhard Schölkopf\n",
      "Andrew Y. Ng\n",
      "Zoubin Ghahramani\n",
      "Rong Jin\n",
      "Geoffrey E. Hinton\n",
      "Tuomas Sandholm\n",
      "Qiang Yang 0001\n",
      "Yoshua Bengio\n",
      "Lawrence Carin\n",
      "\n",
      "NC\n",
      "Donald F. Towsley\n",
      "Ness B. Shroff\n",
      "Yunhao Liu\n",
      "James F. Kurose\n",
      "Kang G. Shin\n",
      "Baochun Li\n",
      "Xiang-Yang Li\n",
      "Eitan Altman\n",
      "T. V. Lakshman\n",
      "Mung Chiang\n",
      "\n",
      "NL\n",
      "Jun'ichi Tsujii\n",
      "Christopher D. Manning\n",
      "Ming Zhou\n",
      "Guodong Zhou\n",
      "Ting Liu\n",
      "Hermann Ney\n",
      "Hwee Tou Ng\n",
      "Dan Klein\n",
      "Yuji Matsumoto\n",
      "Min Zhang 0005\n",
      "\n",
      "OS\n",
      "M. Frans Kaashoek\n",
      "Carey L. Williamson\n",
      "Darrell D. E. Long\n",
      "Nickolai Zeldovich\n",
      "Henry M. Levy\n",
      "Brian N. Bershad\n",
      "Barbara Liskov\n",
      "Ethan L. Miller\n",
      "Roger M. Needham\n",
      "George F. Riley\n",
      "\n"
     ]
    }
   ],
   "source": [
    "for field in ['DM', 'DP', 'ED', 'ML', 'NC', 'NL', 'OS']:\n",
    "    get_top_ten_authors(field)"
   ]
  },
  {
   "cell_type": "code",
   "execution_count": 3,
   "metadata": {},
   "outputs": [],
   "source": [
    "df = pd.read_csv('ML [Nodes].csv')"
   ]
  },
  {
   "cell_type": "code",
   "execution_count": 9,
   "metadata": {},
   "outputs": [
    {
     "name": "stdout",
     "output_type": "stream",
     "text": [
      "Michael I. Jordan\n",
      "Bernhard Sch&#195;&#182;lkopf\n",
      "Tom M. Mitchell\n",
      "Andrew Y. Ng\n",
      "William W. Cohen\n",
      "Zoubin Ghahramani\n",
      "Partha Pratim Talukdar\n",
      "Mehdi Samadi\n",
      "Abhinav Gupta\n",
      "Ni Lao\n"
     ]
    }
   ],
   "source": [
    "for i in df.sort_values('eigencentrality', ascending=False)['label'].values[:10]:\n",
    "    print i"
   ]
  },
  {
   "cell_type": "code",
   "execution_count": null,
   "metadata": {
    "collapsed": true
   },
   "outputs": [],
   "source": []
  }
 ],
 "metadata": {
  "kernelspec": {
   "display_name": "Python [conda root]",
   "language": "python",
   "name": "conda-root-py"
  },
  "language_info": {
   "codemirror_mode": {
    "name": "ipython",
    "version": 2
   },
   "file_extension": ".py",
   "mimetype": "text/x-python",
   "name": "python",
   "nbconvert_exporter": "python",
   "pygments_lexer": "ipython2",
   "version": "2.7.13"
  }
 },
 "nbformat": 4,
 "nbformat_minor": 2
}
